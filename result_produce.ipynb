{
 "cells": [
  {
   "cell_type": "code",
   "execution_count": 1,
   "id": "fb443d0c",
   "metadata": {},
   "outputs": [],
   "source": [
    "import pandas as pd\n",
    "import numpy as np\n",
    "from sklearn import linear_model\n",
    "from sklearn.preprocessing import MinMaxScaler"
   ]
  },
  {
   "cell_type": "code",
   "execution_count": 2,
   "id": "2937a296",
   "metadata": {},
   "outputs": [],
   "source": [
    "x_test = pd.read_csv('data_trouser_dress/troudress_test_x.csv')\n",
    "x_train = pd.read_csv('data_trouser_dress/troudress_train_x.csv')\n",
    "y_train = pd.read_csv('data_trouser_dress/troudress_train_y.csv')\n",
    "x_train_r = pd.read_csv('1.csv')"
   ]
  },
  {
   "cell_type": "code",
   "execution_count": 3,
   "id": "19b47747",
   "metadata": {
    "scrolled": false
   },
   "outputs": [],
   "source": [
    "x_train = x_train.append(x_train_r, ignore_index=True)"
   ]
  },
  {
   "cell_type": "code",
   "execution_count": 4,
   "id": "939c42d6",
   "metadata": {},
   "outputs": [],
   "source": [
    "# fit on x1, transform on x2\n",
    "def add_scaled_sum(x1, x2):\n",
    "    def fit_sum(x):\n",
    "        s = x.apply(sum, axis = 1)\n",
    "    #     print(s.values)\n",
    "        scaler = MinMaxScaler()\n",
    "        scaler.fit(s.values.reshape(-1,1) )\n",
    "        return scaler\n",
    "    def transform_scale_sum(x, scaler): #transform the sums with the scaler\n",
    "        s = x.apply(sum, axis = 1)\n",
    "        return scaler.transform(s.values.reshape(-1,1))\n",
    "    scaler = fit_sum(x1)\n",
    "    x2['whiteness'] = transform_scale_sum(x2, scaler)\n",
    "    return x2"
   ]
  },
  {
   "cell_type": "code",
   "execution_count": 5,
   "id": "5d30bc54",
   "metadata": {},
   "outputs": [],
   "source": [
    "# fit on x1, transform on x2\n",
    "def add_central_sum(x1, x2):# must be done after add_scaled_sum\n",
    "    def central_sum(S):# compute the sum of the lower middle line of the picture\n",
    "        int_list = np.array(range(14))+14\n",
    "        Sum = 0\n",
    "        for i in int_list:\n",
    "            Sum = Sum + S[i*28+13]+S[i*28+14]\n",
    "        return Sum\n",
    "    def fit_sum(x):\n",
    "        s = x.apply(central_sum, axis = 1)\n",
    "        \n",
    "        scaler = MinMaxScaler()\n",
    "        scaler.fit(s.values.reshape(-1,1) )\n",
    "        return scaler\n",
    "    def transform_scale_sum(x, scaler): #transform the sums with the scaler\n",
    "        s = x.apply(central_sum, axis = 1)\n",
    "        return scaler.transform(s.values.reshape(-1,1))\n",
    "    scaler = fit_sum(x1)\n",
    "    x2['central'] = transform_scale_sum(x2, scaler)\n",
    "    return x2"
   ]
  },
  {
   "cell_type": "code",
   "execution_count": 6,
   "id": "79f06f1c",
   "metadata": {},
   "outputs": [],
   "source": [
    "x_train = add_scaled_sum(x_train, x_train)"
   ]
  },
  {
   "cell_type": "code",
   "execution_count": 7,
   "id": "bfb7f273",
   "metadata": {},
   "outputs": [],
   "source": [
    "x_test = add_scaled_sum(x_train, x_test)"
   ]
  },
  {
   "cell_type": "code",
   "execution_count": 8,
   "id": "9402f305",
   "metadata": {},
   "outputs": [],
   "source": [
    "x_test = add_central_sum(x_train, x_test)"
   ]
  },
  {
   "cell_type": "code",
   "execution_count": 9,
   "id": "13d3a2fc",
   "metadata": {},
   "outputs": [],
   "source": [
    "x_train = add_central_sum(x_train, x_train)"
   ]
  },
  {
   "cell_type": "code",
   "execution_count": 10,
   "id": "faaf79c4",
   "metadata": {},
   "outputs": [],
   "source": [
    "y_train = y_train.append(y_train, ignore_index=True)\n",
    "# y_train\n",
    "from sklearn.model_selection import GridSearchCV"
   ]
  },
  {
   "cell_type": "code",
   "execution_count": 27,
   "id": "88a36743",
   "metadata": {},
   "outputs": [
    {
     "data": {
      "text/plain": [
       "array([0.0001    , 0.00021544, 0.00046416, 0.001     , 0.00215443,\n",
       "       0.00464159, 0.01      ])"
      ]
     },
     "execution_count": 27,
     "metadata": {},
     "output_type": "execute_result"
    }
   ],
   "source": [
    "np.logspace(-4,-2,7)"
   ]
  },
  {
   "cell_type": "code",
   "execution_count": 24,
   "id": "e14eadfa",
   "metadata": {},
   "outputs": [],
   "source": [
    "model = linear_model.LogisticRegression(solver = 'liblinear', max_iter = 200, penalty = 'l2', C = 0.01)\n",
    "model.fit(x_train, y_train.values.reshape(-1))\n",
    "yproba1_test = model.predict_proba(x_test)[:, 1]\n",
    "np.savetxt('yproba1_test.txt', yproba1_test)\n",
    "# 0.0535"
   ]
  },
  {
   "cell_type": "code",
   "execution_count": 13,
   "id": "e803b1fe",
   "metadata": {},
   "outputs": [],
   "source": [
    "model = linear_model.LogisticRegression(solver = 'liblinear', max_iter = 200, penalty = 'l2', C = 0.01467799)\n",
    "model.fit(x_train, y_train.values.reshape(-1))\n",
    "yproba1_test = model.predict_proba(x_test)[:, 1]\n",
    "np.savetxt('0.01467799.txt', yproba1_test)"
   ]
  },
  {
   "cell_type": "code",
   "execution_count": 14,
   "id": "3a996e89",
   "metadata": {},
   "outputs": [],
   "source": [
    "model = linear_model.LogisticRegression(solver = 'liblinear', max_iter = 200, penalty = 'l2', C = 0.02154435)\n",
    "model.fit(x_train, y_train.values.reshape(-1))\n",
    "yproba1_test = model.predict_proba(x_test)[:, 1]\n",
    "np.savetxt('0.02154435.txt', yproba1_test)"
   ]
  },
  {
   "cell_type": "code",
   "execution_count": 15,
   "id": "e4def2f3",
   "metadata": {},
   "outputs": [],
   "source": [
    "model = linear_model.LogisticRegression(solver = 'liblinear', max_iter = 200, penalty = 'l2', C = 0.03162278)\n",
    "model.fit(x_train, y_train.values.reshape(-1))\n",
    "yproba1_test = model.predict_proba(x_test)[:, 1]\n",
    "np.savetxt('0.03162278.txt', yproba1_test)"
   ]
  },
  {
   "cell_type": "code",
   "execution_count": 16,
   "id": "44104531",
   "metadata": {},
   "outputs": [],
   "source": [
    "model = linear_model.LogisticRegression(solver = 'liblinear', max_iter = 200, penalty = 'l2', C = 0.04641589)\n",
    "model.fit(x_train, y_train.values.reshape(-1))\n",
    "yproba1_test = model.predict_proba(x_test)[:, 1]\n",
    "np.savetxt('0.04641589.txt', yproba1_test)"
   ]
  },
  {
   "cell_type": "code",
   "execution_count": 17,
   "id": "8128320b",
   "metadata": {},
   "outputs": [],
   "source": [
    "model = linear_model.LogisticRegression(solver = 'liblinear', max_iter = 200, penalty = 'l2', C = 0.06812921)\n",
    "model.fit(x_train, y_train.values.reshape(-1))\n",
    "yproba1_test = model.predict_proba(x_test)[:, 1]\n",
    "np.savetxt('0.06812921.txt', yproba1_test)"
   ]
  },
  {
   "cell_type": "code",
   "execution_count": 23,
   "id": "9d95af56",
   "metadata": {},
   "outputs": [],
   "source": [
    "model = linear_model.LogisticRegression(solver = 'liblinear', max_iter = 200, penalty = 'l2', C = 0.1)\n",
    "model.fit(x_train, y_train.values.reshape(-1))\n",
    "yproba1_test = model.predict_proba(x_test)[:, 1]\n",
    "np.savetxt('yproba1_test.txt', yproba1_test)\n",
    "# 0.062"
   ]
  },
  {
   "cell_type": "code",
   "execution_count": 30,
   "id": "d3cd0da8",
   "metadata": {},
   "outputs": [],
   "source": [
    "model = linear_model.LogisticRegression(solver = 'liblinear', max_iter = 200, penalty = 'l2', C = 0.001)\n",
    "model.fit(x_train, y_train.values.reshape(-1))\n",
    "yproba1_test = model.predict_proba(x_test)[:, 1]\n",
    "np.savetxt('yproba1_test.txt', yproba1_test)\n",
    "# 0.0505"
   ]
  },
  {
   "cell_type": "code",
   "execution_count": 22,
   "id": "f15c92d6",
   "metadata": {},
   "outputs": [],
   "source": [
    "model = linear_model.LogisticRegression(solver = 'liblinear', max_iter = 200, penalty = 'l2', C = 1)\n",
    "model.fit(x_train, y_train.values.reshape(-1))\n",
    "yproba1_test = model.predict_proba(x_test)[:, 1]\n",
    "np.savetxt('yproba1_test.txt', yproba1_test)\n",
    "#0.0675"
   ]
  },
  {
   "cell_type": "code",
   "execution_count": 26,
   "id": "2bd04fca",
   "metadata": {},
   "outputs": [],
   "source": [
    "model = linear_model.LogisticRegression(solver = 'liblinear', max_iter = 200, penalty = 'l2', C = 0.0001)\n",
    "model.fit(x_train, y_train.values.reshape(-1))\n",
    "yproba1_test = model.predict_proba(x_test)[:, 1]\n",
    "np.savetxt('yproba1_test.txt', yproba1_test)\n",
    "# 0.0555"
   ]
  },
  {
   "cell_type": "code",
   "execution_count": 28,
   "id": "f0bf9423",
   "metadata": {},
   "outputs": [],
   "source": [
    "model = linear_model.LogisticRegression(solver = 'liblinear', max_iter = 200, penalty = 'l2', C = 0.00046416)\n",
    "model.fit(x_train, y_train.values.reshape(-1))\n",
    "yproba1_test = model.predict_proba(x_test)[:, 1]\n",
    "np.savetxt('yproba1_test.txt', yproba1_test)\n",
    "#0.0530"
   ]
  },
  {
   "cell_type": "code",
   "execution_count": 29,
   "id": "de4dbf9d",
   "metadata": {},
   "outputs": [],
   "source": [
    "model = linear_model.LogisticRegression(solver = 'liblinear', max_iter = 200, penalty = 'l2', C = 0.00215443)\n",
    "model.fit(x_train, y_train.values.reshape(-1))\n",
    "yproba1_test = model.predict_proba(x_test)[:, 1]\n",
    "np.savetxt('yproba1_test.txt', yproba1_test)\n",
    "# 0.0520"
   ]
  },
  {
   "cell_type": "code",
   "execution_count": null,
   "id": "573baf2f",
   "metadata": {},
   "outputs": [],
   "source": []
  },
  {
   "cell_type": "code",
   "execution_count": null,
   "id": "f9aece95",
   "metadata": {},
   "outputs": [],
   "source": []
  }
 ],
 "metadata": {
  "kernelspec": {
   "display_name": "Python 3 (ipykernel)",
   "language": "python",
   "name": "python3"
  },
  "language_info": {
   "codemirror_mode": {
    "name": "ipython",
    "version": 3
   },
   "file_extension": ".py",
   "mimetype": "text/x-python",
   "name": "python",
   "nbconvert_exporter": "python",
   "pygments_lexer": "ipython3",
   "version": "3.8.11"
  },
  "varInspector": {
   "cols": {
    "lenName": 16,
    "lenType": 16,
    "lenVar": 40
   },
   "kernels_config": {
    "python": {
     "delete_cmd_postfix": "",
     "delete_cmd_prefix": "del ",
     "library": "var_list.py",
     "varRefreshCmd": "print(var_dic_list())"
    },
    "r": {
     "delete_cmd_postfix": ") ",
     "delete_cmd_prefix": "rm(",
     "library": "var_list.r",
     "varRefreshCmd": "cat(var_dic_list()) "
    }
   },
   "types_to_exclude": [
    "module",
    "function",
    "builtin_function_or_method",
    "instance",
    "_Feature"
   ],
   "window_display": false
  }
 },
 "nbformat": 4,
 "nbformat_minor": 5
}
