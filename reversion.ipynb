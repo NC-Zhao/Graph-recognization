{
 "cells": [
  {
   "cell_type": "code",
   "execution_count": 6,
   "id": "274233b2",
   "metadata": {},
   "outputs": [],
   "source": [
    "import pandas as pd\n",
    "import numpy as np\n",
    "from matplotlib import pyplot as plt"
   ]
  },
  {
   "cell_type": "code",
   "execution_count": 2,
   "id": "9cf4681d",
   "metadata": {},
   "outputs": [],
   "source": [
    "x_train = pd.read_csv('data_trouser_dress/troudress_train_x.csv')"
   ]
  },
  {
   "cell_type": "code",
   "execution_count": 3,
   "id": "f9a328c3",
   "metadata": {},
   "outputs": [],
   "source": [
    "def h_inverse(x, a):\n",
    "    y = x.copy()\n",
    "    \n",
    "    for i in range(x.shape[0]): # row\n",
    "        for j in range(x.shape[1]): # col\n",
    "            y.iat[i,j] = x.iloc[i, j//28*28+27-j%28]            \n",
    "    return y"
   ]
  },
  {
   "cell_type": "code",
   "execution_count": 4,
   "id": "b885483f",
   "metadata": {},
   "outputs": [],
   "source": [
    "x_train_reverse = h_inverse(x_train, 0)"
   ]
  },
  {
   "cell_type": "code",
   "execution_count": null,
   "id": "ca05d0bd",
   "metadata": {},
   "outputs": [],
   "source": []
  },
  {
   "cell_type": "code",
   "execution_count": null,
   "id": "b59984f1",
   "metadata": {},
   "outputs": [],
   "source": [
    "x_train_reverse.to_csv('1.csv', index = False)"
   ]
  },
  {
   "cell_type": "code",
   "execution_count": 12,
   "id": "53404d09",
   "metadata": {
    "scrolled": true
   },
   "outputs": [
    {
     "data": {
      "text/plain": [
       "<matplotlib.image.AxesImage at 0x21ff42ef730>"
      ]
     },
     "execution_count": 12,
     "metadata": {},
     "output_type": "execute_result"
    },
    {
     "data": {
      "image/png": "[encoded data removed]",
      "text/plain": [
       "<Figure size 432x288 with 1 Axes>"
      ]
     },
     "metadata": {
      "needs_background": "light"
     },
     "output_type": "display_data"
    }
   ],
   "source": [
    "np_x_train = x_train.values\n",
    "plt.imshow(np_x_train[9455,:].reshape(28,28),cmap = 'gray', vmin = 0.0, vmax = 1.0)"
   ]
  },
  {
   "cell_type": "code",
   "execution_count": 13,
   "id": "c8098bf1",
   "metadata": {},
   "outputs": [
    {
     "data": {
      "text/plain": [
       "<matplotlib.image.AxesImage at 0x21ff4357b20>"
      ]
     },
     "execution_count": 13,
     "metadata": {},
     "output_type": "execute_result"
    },
    {
     "data": {
      "image/png": "[encoded data removed]",
      "text/plain": [
       "<Figure size 432x288 with 1 Axes>"
      ]
     },
     "metadata": {
      "needs_background": "light"
     },
     "output_type": "display_data"
    }
   ],
   "source": [
    "np_x_train_r = x_train_reverse.values\n",
    "plt.imshow(np_x_train_r[9455,:].reshape(28,28),cmap = 'gray', vmin = 0.0, vmax = 1.0)"
   ]
  },
  {
   "cell_type": "code",
   "execution_count": null,
   "id": "51254423",
   "metadata": {},
   "outputs": [],
   "source": []
  }
 ],
 "metadata": {
  "kernelspec": {
   "display_name": "Python 3 (ipykernel)",
   "language": "python",
   "name": "python3"
  },
  "language_info": {
   "codemirror_mode": {
    "name": "ipython",
    "version": 3
   },
   "file_extension": ".py",
   "mimetype": "text/x-python",
   "name": "python",
   "nbconvert_exporter": "python",
   "pygments_lexer": "ipython3",
   "version": "3.10.0"
  },
  "varInspector": {
   "cols": {
    "lenName": 16,
    "lenType": 16,
    "lenVar": 40
   },
   "kernels_config": {
    "python": {
     "delete_cmd_postfix": "",
     "delete_cmd_prefix": "del ",
     "library": "var_list.py",
     "varRefreshCmd": "print(var_dic_list())"
    },
    "r": {
     "delete_cmd_postfix": ") ",
     "delete_cmd_prefix": "rm(",
     "library": "var_list.r",
     "varRefreshCmd": "cat(var_dic_list()) "
    }
   },
   "types_to_exclude": [
    "module",
    "function",
    "builtin_function_or_method",
    "instance",
    "_Feature"
   ],
   "window_display": false
  }
 },
 "nbformat": 4,
 "nbformat_minor": 5
}
