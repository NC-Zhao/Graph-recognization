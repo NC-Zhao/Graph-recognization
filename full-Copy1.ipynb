{
 "cells": [
  {
   "cell_type": "code",
   "execution_count": 1,
   "id": "4670c138",
   "metadata": {},
   "outputs": [],
   "source": [
    "import pandas as pd\n",
    "import numpy as np\n",
    "from matplotlib import pyplot as plt\n",
    "import seaborn as sns\n",
    "from sklearn.preprocessing import MinMaxScaler\n",
    "%matplotlib inline\n",
    "plt.style.use('seaborn')\n",
    "from sklearn.pipeline import Pipeline"
   ]
  },
  {
   "cell_type": "code",
   "execution_count": 17,
   "id": "f2359203",
   "metadata": {},
   "outputs": [],
   "source": [
    "x_test = pd.read_csv('data_trouser_dress/troudress_test_x.csv')\n",
    "x_train = pd.read_csv('data_trouser_dress/troudress_train_x.csv')\n",
    "y_train = pd.read_csv('data_trouser_dress/troudress_train_y.csv')\n",
    "x_train_r = pd.read_csv('1.csv')"
   ]
  },
  {
   "cell_type": "code",
   "execution_count": null,
   "id": "f7452525",
   "metadata": {
    "scrolled": true
   },
   "outputs": [],
   "source": [
    "# np_x_train = x_train.values\n",
    "# plt.imshow(np_x_train[2,:].reshape(28,28),cmap = 'gray', vmin = 0.0, vmax = 1.0)"
   ]
  },
  {
   "cell_type": "code",
   "execution_count": null,
   "id": "7bb8837f",
   "metadata": {},
   "outputs": [],
   "source": [
    "# np_x_train_r = x_train_reverse.values\n",
    "# plt.imshow(np_x_train_r[2,:].reshape(28,28),cmap = 'gray', vmin = 0.0, vmax = 1.0)"
   ]
  },
  {
   "cell_type": "code",
   "execution_count": null,
   "id": "7b99d7bb",
   "metadata": {},
   "outputs": [],
   "source": [
    "# y_train.iloc[2]"
   ]
  },
  {
   "cell_type": "code",
   "execution_count": null,
   "id": "12fad489",
   "metadata": {},
   "outputs": [],
   "source": [
    "# x_train"
   ]
  },
  {
   "cell_type": "code",
   "execution_count": null,
   "id": "f8ad92b0",
   "metadata": {},
   "outputs": [],
   "source": [
    "# s = x_train.iloc[25, :]\n",
    "# s[783]"
   ]
  },
  {
   "cell_type": "code",
   "execution_count": null,
   "id": "3c3a0433",
   "metadata": {},
   "outputs": [],
   "source": [
    "# def h_inverse(x, a):\n",
    "#     y = x.copy()\n",
    "    \n",
    "#     for i in range(x.shape[0]): # row\n",
    "#         for j in range(x.shape[1]): # col\n",
    "#             y.iat[i,j] = x.iloc[i, j//28*28+27-j%28]            \n",
    "#     return y"
   ]
  },
  {
   "cell_type": "code",
   "execution_count": 18,
   "id": "19b47747",
   "metadata": {},
   "outputs": [],
   "source": [
    "x_train = x_train.append(x_train_r, ignore_index=True)"
   ]
  },
  {
   "cell_type": "code",
   "execution_count": 19,
   "id": "939c42d6",
   "metadata": {},
   "outputs": [],
   "source": [
    "# fit on x1, transform on x2\n",
    "def add_scaled_sum(x1, x2):\n",
    "    def fit_sum(x):\n",
    "        s = x.apply(sum, axis = 1)\n",
    "    #     print(s.values)\n",
    "        scaler = MinMaxScaler()\n",
    "        scaler.fit(s.values.reshape(-1,1) )\n",
    "        return scaler\n",
    "    def transform_scale_sum(x, scaler): #transform the sums with the scaler\n",
    "        s = x.apply(sum, axis = 1)\n",
    "        return scaler.transform(s.values.reshape(-1,1))\n",
    "    scaler = fit_sum(x1)\n",
    "    x2['whiteness'] = transform_scale_sum(x2, scaler)\n",
    "    return x2"
   ]
  },
  {
   "cell_type": "code",
   "execution_count": 20,
   "id": "5d30bc54",
   "metadata": {},
   "outputs": [],
   "source": [
    "# fit on x1, transform on x2\n",
    "def add_central_sum(x1, x2):# must be done after add_scaled_sum\n",
    "    def central_sum(S):# compute the sum of the lower middle line of the picture\n",
    "        int_list = np.array(range(14))+14\n",
    "        Sum = 0\n",
    "        for i in int_list:\n",
    "            Sum = Sum + S[i*28+13]+S[i*28+14]\n",
    "        return Sum\n",
    "    def fit_sum(x):\n",
    "        s = x.apply(central_sum, axis = 1)\n",
    "        \n",
    "        scaler = MinMaxScaler()\n",
    "        scaler.fit(s.values.reshape(-1,1) )\n",
    "        return scaler\n",
    "    def transform_scale_sum(x, scaler): #transform the sums with the scaler\n",
    "        s = x.apply(central_sum, axis = 1)\n",
    "        return scaler.transform(s.values.reshape(-1,1))\n",
    "    scaler = fit_sum(x1)\n",
    "    x2['central'] = transform_scale_sum(x2, scaler)\n",
    "    return x2"
   ]
  },
  {
   "cell_type": "code",
   "execution_count": 21,
   "id": "79f06f1c",
   "metadata": {},
   "outputs": [],
   "source": [
    "x_train = add_scaled_sum(x_train, x_train)"
   ]
  },
  {
   "cell_type": "code",
   "execution_count": 22,
   "id": "bfb7f273",
   "metadata": {},
   "outputs": [],
   "source": [
    "x_test = add_scaled_sum(x_train, x_test)\n",
    "# a = x_test.iloc[:, 784].values\n",
    "# print(a.min())\n",
    "# print(a.max())"
   ]
  },
  {
   "cell_type": "code",
   "execution_count": null,
   "id": "63cbcb75",
   "metadata": {},
   "outputs": [],
   "source": [
    "# b = x_train.iloc[:, 784].values\n",
    "# print(b.max())\n",
    "# print(b.min())"
   ]
  },
  {
   "cell_type": "code",
   "execution_count": 23,
   "id": "9402f305",
   "metadata": {},
   "outputs": [],
   "source": [
    "x_test = add_central_sum(x_train, x_test)\n",
    "# a = x_test.iloc[:, 785].values\n",
    "# print(a.min())\n",
    "# print(a.max())\n",
    "# x_test"
   ]
  },
  {
   "cell_type": "code",
   "execution_count": 24,
   "id": "13d3a2fc",
   "metadata": {},
   "outputs": [],
   "source": [
    "x_train = add_central_sum(x_train, x_train)\n",
    "# b = x_train.iloc[:, 785].values\n",
    "# print(b.min())\n",
    "# print(b.max())\n",
    "# x_train"
   ]
  },
  {
   "cell_type": "code",
   "execution_count": 25,
   "id": "faaf79c4",
   "metadata": {},
   "outputs": [],
   "source": [
    "y_train = y_train.append(y_train, ignore_index=True)\n",
    "# y_train\n",
    "from sklearn import linear_model\n",
    "from sklearn.model_selection import GridSearchCV"
   ]
  },
  {
   "cell_type": "code",
   "execution_count": 27,
   "id": "54209481",
   "metadata": {},
   "outputs": [
    {
     "data": {
      "text/plain": [
       "(24000, 786)"
      ]
     },
     "execution_count": 27,
     "metadata": {},
     "output_type": "execute_result"
    }
   ],
   "source": [
    "x_train.shape"
   ]
  },
  {
   "cell_type": "code",
   "execution_count": 28,
   "id": "887e6653",
   "metadata": {},
   "outputs": [
    {
     "data": {
      "text/plain": [
       "(24000, 471)"
      ]
     },
     "execution_count": 28,
     "metadata": {},
     "output_type": "execute_result"
    }
   ],
   "source": [
    "from sklearn.feature_selection import SelectPercentile\n",
    "from sklearn.feature_selection import chi2\n",
    "select = SelectPercentile(chi2, percentile=60)\n",
    "x_train = select.fit_transform(x_train, y_train)\n",
    "x_test = select.transform(x_test)"
   ]
  },
  {
   "cell_type": "code",
   "execution_count": null,
   "id": "b4eca111",
   "metadata": {},
   "outputs": [],
   "source": [
    "# from sklearn import linear_model\n",
    "# from sklearn.model_selection import GridSearchCV\n",
    "# # # Perceptron\n",
    "# # percep = linear_model.Perceptron()\n",
    "# # percep_p_Grid = {'max_iter':np.arange(100, 301, 100), 'penalty':['l2','l1',None]}\n",
    "# # percepGrid = GridSearchCV(percep, percep_p_Grid)\n",
    "# # percepGrid.fit(x_train, y_train.values.reshape(-1))\n",
    "# # print(percepGrid.cv_results_)"
   ]
  },
  {
   "cell_type": "code",
   "execution_count": null,
   "id": "8cd83803",
   "metadata": {},
   "outputs": [],
   "source": [
    "# percepGrid.cv_results_"
   ]
  },
  {
   "cell_type": "code",
   "execution_count": null,
   "id": "02b9afe4",
   "metadata": {},
   "outputs": [],
   "source": [
    "np.logspace(-3, 2,11)"
   ]
  },
  {
   "cell_type": "code",
   "execution_count": null,
   "id": "d2776aa6",
   "metadata": {},
   "outputs": [],
   "source": [
    "# logistic\n",
    "logi = linear_model.LogisticRegression(solver = 'liblinear')\n",
    "log_p_Grid = { 'penalty':['l2','l1'], 'C': np.logspace(-3, 2, 11)}#tried 10 and 100,0.0001, 0.0005, 0.001, 0.005,[0.01, 0.1, 1]\n",
    "logiGrid = GridSearchCV(logi, log_p_Grid)\n",
    "logiGrid.fit(x_train, y_train.values.reshape(-1))\n",
    "logiGrid.cv_results_"
   ]
  },
  {
   "cell_type": "code",
   "execution_count": null,
   "id": "f96556ee",
   "metadata": {},
   "outputs": [],
   "source": [
    "logi = linear_model.LogisticRegression(solver = 'lbfgs')\n",
    "log_p_Grid = { 'penalty':['l2','none'], 'C': np.logspace(-3, 2, 11), 'max_iter':[200]}#tried 10 and 100,0.0001, 0.0005, 0.001, 0.005,[0.01, 0.1, 1]\n",
    "logiGrid = GridSearchCV(logi, log_p_Grid)\n",
    "logiGrid.fit(x_train, y_train.values.reshape(-1))\n",
    "logiGrid.cv_results_"
   ]
  },
  {
   "cell_type": "code",
   "execution_count": null,
   "id": "5ee98f18",
   "metadata": {},
   "outputs": [],
   "source": [
    "# from sklearn.svm import SVC\n",
    "# # svm\n",
    "# svc = SVC()\n",
    "# svc_p_Grid = {'max_iter':[1000]}#'C':[0.01, 0.1, 1, 10], 'kernel':['poly', 'rbf','sigmoid'], 'gamma':[1,.01, .001, .0001, 'scale', 'auto']}\n",
    "# svcGrid = GridSearchCV(svc, svc_p_Grid)\n",
    "# svcGrid.fit(x_train, y_train.values.reshape(-1))\n",
    "# svcGrid.cv_results_"
   ]
  },
  {
   "cell_type": "code",
   "execution_count": 29,
   "id": "0bfeee18",
   "metadata": {
    "scrolled": true
   },
   "outputs": [
    {
     "data": {
      "text/plain": [
       "{'mean_fit_time': array([0.73563185, 0.82339931, 0.88622446, 0.87665625, 0.89879708,\n",
       "        0.94407582, 1.02565856]),\n",
       " 'std_fit_time': array([0.03943548, 0.02184611, 0.03482731, 0.01108821, 0.01464872,\n",
       "        0.03703174, 0.07198349]),\n",
       " 'mean_score_time': array([0.00578671, 0.00598316, 0.00618324, 0.00618935, 0.00658212,\n",
       "        0.0071804 , 0.00638299]),\n",
       " 'std_score_time': array([0.00039974, 0.00089132, 0.00074588, 0.00097551, 0.00135359,\n",
       "        0.00171505, 0.00135267]),\n",
       " 'param_C': masked_array(data=[0.01, 0.014677992676220698, 0.021544346900318832,\n",
       "                    0.03162277660168379, 0.046415888336127774,\n",
       "                    0.06812920690579612, 0.1],\n",
       "              mask=[False, False, False, False, False, False, False],\n",
       "        fill_value='?',\n",
       "             dtype=object),\n",
       " 'param_max_iter': masked_array(data=[200, 200, 200, 200, 200, 200, 200],\n",
       "              mask=[False, False, False, False, False, False, False],\n",
       "        fill_value='?',\n",
       "             dtype=object),\n",
       " 'param_penalty': masked_array(data=['l2', 'l2', 'l2', 'l2', 'l2', 'l2', 'l2'],\n",
       "              mask=[False, False, False, False, False, False, False],\n",
       "        fill_value='?',\n",
       "             dtype=object),\n",
       " 'params': [{'C': 0.01, 'max_iter': 200, 'penalty': 'l2'},\n",
       "  {'C': 0.014677992676220698, 'max_iter': 200, 'penalty': 'l2'},\n",
       "  {'C': 0.021544346900318832, 'max_iter': 200, 'penalty': 'l2'},\n",
       "  {'C': 0.03162277660168379, 'max_iter': 200, 'penalty': 'l2'},\n",
       "  {'C': 0.046415888336127774, 'max_iter': 200, 'penalty': 'l2'},\n",
       "  {'C': 0.06812920690579612, 'max_iter': 200, 'penalty': 'l2'},\n",
       "  {'C': 0.1, 'max_iter': 200, 'penalty': 'l2'}],\n",
       " 'split0_test_score': array([0.9575    , 0.95833333, 0.95895833, 0.959375  , 0.959375  ,\n",
       "        0.95979167, 0.95916667]),\n",
       " 'split1_test_score': array([0.96145833, 0.96083333, 0.960625  , 0.96083333, 0.96      ,\n",
       "        0.96      , 0.959375  ]),\n",
       " 'split2_test_score': array([0.95854167, 0.959375  , 0.96020833, 0.95979167, 0.96      ,\n",
       "        0.95979167, 0.959375  ]),\n",
       " 'split3_test_score': array([0.96      , 0.95958333, 0.95979167, 0.960625  , 0.960625  ,\n",
       "        0.95958333, 0.95958333]),\n",
       " 'split4_test_score': array([0.95875   , 0.95895833, 0.96      , 0.96      , 0.95916667,\n",
       "        0.95916667, 0.95875   ]),\n",
       " 'mean_test_score': array([0.95925   , 0.95941667, 0.95991667, 0.960125  , 0.95983333,\n",
       "        0.95966667, 0.95925   ]),\n",
       " 'std_test_score': array([0.0013604 , 0.00082706, 0.00055277, 0.00053684, 0.00051707,\n",
       "        0.0002826 , 0.0002826 ]),\n",
       " 'rank_test_score': array([6, 5, 2, 1, 3, 4, 6])}"
      ]
     },
     "execution_count": 29,
     "metadata": {},
     "output_type": "execute_result"
    }
   ],
   "source": [
    "logi = linear_model.LogisticRegression(solver = 'liblinear')\n",
    "log_p_Grid = { 'penalty':['l2'], 'C': np.logspace(-2, -1, 7), 'max_iter':[200]}#tried 10 and 100,0.0001, 0.0005, 0.001, 0.005,[0.01, 0.1, 1]\n",
    "logiGrid = GridSearchCV(logi, log_p_Grid)\n",
    "logiGrid.fit(x_train, y_train.values.reshape(-1))\n",
    "logiGrid.cv_results_"
   ]
  },
  {
   "cell_type": "code",
   "execution_count": null,
   "id": "2d1ba146",
   "metadata": {},
   "outputs": [],
   "source": [
    "# model = linear_model.LogisticRegression(solver = 'liblinear', max_iter = 200, penalty = 'l2', C = 0.03162277660168379)\n",
    "model = linear_model.LogisticRegression(solver = 'liblinear', max_iter = 200, penalty = 'l2', C = 0.01)\n",
    "# model = SVC(max_iter=1000)\n",
    "model.fit(x_train, y_train.values.reshape(-1))\n",
    "yproba1_test = model.predict_proba(x_test)[:, 1]\n",
    "np.savetxt('yproba1_test.txt', yproba1_test)"
   ]
  },
  {
   "cell_type": "code",
   "execution_count": null,
   "id": "8e13b79a",
   "metadata": {},
   "outputs": [],
   "source": []
  }
 ],
 "metadata": {
  "kernelspec": {
   "display_name": "Python 3 (ipykernel)",
   "language": "python",
   "name": "python3"
  },
  "language_info": {
   "codemirror_mode": {
    "name": "ipython",
    "version": 3
   },
   "file_extension": ".py",
   "mimetype": "text/x-python",
   "name": "python",
   "nbconvert_exporter": "python",
   "pygments_lexer": "ipython3",
   "version": "3.10.0"
  },
  "varInspector": {
   "cols": {
    "lenName": 16,
    "lenType": 16,
    "lenVar": 40
   },
   "kernels_config": {
    "python": {
     "delete_cmd_postfix": "",
     "delete_cmd_prefix": "del ",
     "library": "var_list.py",
     "varRefreshCmd": "print(var_dic_list())"
    },
    "r": {
     "delete_cmd_postfix": ") ",
     "delete_cmd_prefix": "rm(",
     "library": "var_list.r",
     "varRefreshCmd": "cat(var_dic_list()) "
    }
   },
   "types_to_exclude": [
    "module",
    "function",
    "builtin_function_or_method",
    "instance",
    "_Feature"
   ],
   "window_display": false
  }
 },
 "nbformat": 4,
 "nbformat_minor": 5
}
