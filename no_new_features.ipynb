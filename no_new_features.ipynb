{
 "cells": [
  {
   "cell_type": "code",
   "execution_count": 1,
   "id": "4670c138",
   "metadata": {},
   "outputs": [],
   "source": [
    "import pandas as pd\n",
    "import numpy as np\n",
    "from matplotlib import pyplot as plt\n",
    "import seaborn as sns\n",
    "from sklearn.preprocessing import MinMaxScaler\n",
    "from sklearn import linear_model\n",
    "from sklearn.model_selection import GridSearchCV\n",
    "%matplotlib inline\n",
    "plt.style.use('seaborn')\n",
    "from sklearn.pipeline import Pipeline"
   ]
  },
  {
   "cell_type": "code",
   "execution_count": 2,
   "id": "f2359203",
   "metadata": {},
   "outputs": [],
   "source": [
    "x_test = pd.read_csv('data_trouser_dress/troudress_test_x.csv')\n",
    "x_train = pd.read_csv('data_trouser_dress/troudress_train_x.csv')\n",
    "y_train = pd.read_csv('data_trouser_dress/troudress_train_y.csv')\n",
    "x_train_r = pd.read_csv('1.csv')"
   ]
  },
  {
   "cell_type": "code",
   "execution_count": 3,
   "id": "19b47747",
   "metadata": {
    "scrolled": false
   },
   "outputs": [],
   "source": [
    "x_train = x_train.append(x_train_r, ignore_index=True)"
   ]
  },
  {
   "cell_type": "code",
   "execution_count": 4,
   "id": "faaf79c4",
   "metadata": {},
   "outputs": [],
   "source": [
    "y_train = y_train.append(y_train, ignore_index=True)\n",
    "# y_train"
   ]
  },
  {
   "cell_type": "code",
   "execution_count": 5,
   "id": "d2776aa6",
   "metadata": {},
   "outputs": [
    {
     "data": {
      "text/plain": [
       "{'mean_fit_time': array([1.04999008, 0.84733324, 1.36315317, 0.98895426, 1.51275301,\n",
       "        1.05896664, 1.92784147, 1.16049485, 2.09878502, 1.54406886,\n",
       "        2.71473708, 3.72004828, 2.75403242, 6.04602761, 3.0137373 ,\n",
       "        5.83978438, 2.15084615, 6.06696959, 2.05490208, 5.10619817,\n",
       "        2.21111646, 6.61012917]),\n",
       " 'std_fit_time': array([0.06884602, 0.06060099, 0.05132747, 0.0259352 , 0.11331914,\n",
       "        0.01901091, 0.0860907 , 0.02906055, 0.10209174, 0.22322283,\n",
       "        0.10039898, 0.36836301, 0.07415669, 1.65268505, 0.25585031,\n",
       "        0.678637  , 0.1290128 , 1.6999344 , 0.03609646, 0.49854601,\n",
       "        0.08985148, 1.81033253]),\n",
       " 'mean_score_time': array([0.02493405, 0.02313819, 0.02373705, 0.02194133, 0.02154241,\n",
       "        0.02214112, 0.02473407, 0.02253995, 0.02074499, 0.02393618,\n",
       "        0.01934876, 0.02194195, 0.02054563, 0.02134156, 0.01954832,\n",
       "        0.02372975, 0.02014542, 0.01835098, 0.01675568, 0.01914153,\n",
       "        0.01715531, 0.02020087]),\n",
       " 'std_score_time': array([0.01318596, 0.00291755, 0.00395873, 0.00189268, 0.00241008,\n",
       "        0.00263118, 0.00347779, 0.00312834, 0.00342112, 0.00362369,\n",
       "        0.00205414, 0.00218638, 0.00466139, 0.00135072, 0.00256966,\n",
       "        0.00502681, 0.00317916, 0.00286336, 0.00039833, 0.00291407,\n",
       "        0.00097745, 0.00459581]),\n",
       " 'param_C': masked_array(data=[0.001, 0.001, 0.0031622776601683794,\n",
       "                    0.0031622776601683794, 0.01, 0.01, 0.03162277660168379,\n",
       "                    0.03162277660168379, 0.1, 0.1, 0.31622776601683794,\n",
       "                    0.31622776601683794, 1.0, 1.0, 3.1622776601683795,\n",
       "                    3.1622776601683795, 10.0, 10.0, 31.622776601683793,\n",
       "                    31.622776601683793, 100.0, 100.0],\n",
       "              mask=[False, False, False, False, False, False, False, False,\n",
       "                    False, False, False, False, False, False, False, False,\n",
       "                    False, False, False, False, False, False],\n",
       "        fill_value='?',\n",
       "             dtype=object),\n",
       " 'param_max_iter': masked_array(data=[200, 200, 200, 200, 200, 200, 200, 200, 200, 200, 200,\n",
       "                    200, 200, 200, 200, 200, 200, 200, 200, 200, 200, 200],\n",
       "              mask=[False, False, False, False, False, False, False, False,\n",
       "                    False, False, False, False, False, False, False, False,\n",
       "                    False, False, False, False, False, False],\n",
       "        fill_value='?',\n",
       "             dtype=object),\n",
       " 'param_penalty': masked_array(data=['l2', 'l1', 'l2', 'l1', 'l2', 'l1', 'l2', 'l1', 'l2',\n",
       "                    'l1', 'l2', 'l1', 'l2', 'l1', 'l2', 'l1', 'l2', 'l1',\n",
       "                    'l2', 'l1', 'l2', 'l1'],\n",
       "              mask=[False, False, False, False, False, False, False, False,\n",
       "                    False, False, False, False, False, False, False, False,\n",
       "                    False, False, False, False, False, False],\n",
       "        fill_value='?',\n",
       "             dtype=object),\n",
       " 'param_solver': masked_array(data=['liblinear', 'liblinear', 'liblinear', 'liblinear',\n",
       "                    'liblinear', 'liblinear', 'liblinear', 'liblinear',\n",
       "                    'liblinear', 'liblinear', 'liblinear', 'liblinear',\n",
       "                    'liblinear', 'liblinear', 'liblinear', 'liblinear',\n",
       "                    'liblinear', 'liblinear', 'liblinear', 'liblinear',\n",
       "                    'liblinear', 'liblinear'],\n",
       "              mask=[False, False, False, False, False, False, False, False,\n",
       "                    False, False, False, False, False, False, False, False,\n",
       "                    False, False, False, False, False, False],\n",
       "        fill_value='?',\n",
       "             dtype=object),\n",
       " 'params': [{'C': 0.001,\n",
       "   'max_iter': 200,\n",
       "   'penalty': 'l2',\n",
       "   'solver': 'liblinear'},\n",
       "  {'C': 0.001, 'max_iter': 200, 'penalty': 'l1', 'solver': 'liblinear'},\n",
       "  {'C': 0.0031622776601683794,\n",
       "   'max_iter': 200,\n",
       "   'penalty': 'l2',\n",
       "   'solver': 'liblinear'},\n",
       "  {'C': 0.0031622776601683794,\n",
       "   'max_iter': 200,\n",
       "   'penalty': 'l1',\n",
       "   'solver': 'liblinear'},\n",
       "  {'C': 0.01, 'max_iter': 200, 'penalty': 'l2', 'solver': 'liblinear'},\n",
       "  {'C': 0.01, 'max_iter': 200, 'penalty': 'l1', 'solver': 'liblinear'},\n",
       "  {'C': 0.03162277660168379,\n",
       "   'max_iter': 200,\n",
       "   'penalty': 'l2',\n",
       "   'solver': 'liblinear'},\n",
       "  {'C': 0.03162277660168379,\n",
       "   'max_iter': 200,\n",
       "   'penalty': 'l1',\n",
       "   'solver': 'liblinear'},\n",
       "  {'C': 0.1, 'max_iter': 200, 'penalty': 'l2', 'solver': 'liblinear'},\n",
       "  {'C': 0.1, 'max_iter': 200, 'penalty': 'l1', 'solver': 'liblinear'},\n",
       "  {'C': 0.31622776601683794,\n",
       "   'max_iter': 200,\n",
       "   'penalty': 'l2',\n",
       "   'solver': 'liblinear'},\n",
       "  {'C': 0.31622776601683794,\n",
       "   'max_iter': 200,\n",
       "   'penalty': 'l1',\n",
       "   'solver': 'liblinear'},\n",
       "  {'C': 1.0, 'max_iter': 200, 'penalty': 'l2', 'solver': 'liblinear'},\n",
       "  {'C': 1.0, 'max_iter': 200, 'penalty': 'l1', 'solver': 'liblinear'},\n",
       "  {'C': 3.1622776601683795,\n",
       "   'max_iter': 200,\n",
       "   'penalty': 'l2',\n",
       "   'solver': 'liblinear'},\n",
       "  {'C': 3.1622776601683795,\n",
       "   'max_iter': 200,\n",
       "   'penalty': 'l1',\n",
       "   'solver': 'liblinear'},\n",
       "  {'C': 10.0, 'max_iter': 200, 'penalty': 'l2', 'solver': 'liblinear'},\n",
       "  {'C': 10.0, 'max_iter': 200, 'penalty': 'l1', 'solver': 'liblinear'},\n",
       "  {'C': 31.622776601683793,\n",
       "   'max_iter': 200,\n",
       "   'penalty': 'l2',\n",
       "   'solver': 'liblinear'},\n",
       "  {'C': 31.622776601683793,\n",
       "   'max_iter': 200,\n",
       "   'penalty': 'l1',\n",
       "   'solver': 'liblinear'},\n",
       "  {'C': 100.0, 'max_iter': 200, 'penalty': 'l2', 'solver': 'liblinear'},\n",
       "  {'C': 100.0, 'max_iter': 200, 'penalty': 'l1', 'solver': 'liblinear'}],\n",
       " 'split0_test_score': array([0.95416667, 0.84416667, 0.95729167, 0.933125  , 0.96041667,\n",
       "        0.94854167, 0.96104167, 0.95645833, 0.96020833, 0.96020833,\n",
       "        0.960625  , 0.961875  , 0.95916667, 0.96104167, 0.95916667,\n",
       "        0.95916667, 0.959375  , 0.95875   , 0.959375  , 0.95895833,\n",
       "        0.959375  , 0.95916667]),\n",
       " 'split1_test_score': array([0.958125  , 0.86229167, 0.96020833, 0.93979167, 0.96333333,\n",
       "        0.95520833, 0.96208333, 0.95916667, 0.96083333, 0.96270833,\n",
       "        0.96041667, 0.96208333, 0.96020833, 0.96041667, 0.96020833,\n",
       "        0.96020833, 0.95979167, 0.96      , 0.95979167, 0.95979167,\n",
       "        0.95979167, 0.95979167]),\n",
       " 'split2_test_score': array([0.95270833, 0.85208333, 0.95770833, 0.93270833, 0.96104167,\n",
       "        0.94833333, 0.96208333, 0.95541667, 0.961875  , 0.96      ,\n",
       "        0.95958333, 0.96020833, 0.95854167, 0.959375  , 0.95833333,\n",
       "        0.95833333, 0.95833333, 0.95833333, 0.958125  , 0.958125  ,\n",
       "        0.958125  , 0.95833333]),\n",
       " 'split3_test_score': array([0.95770833, 0.85916667, 0.95854167, 0.936875  , 0.96083333,\n",
       "        0.95229167, 0.963125  , 0.9575    , 0.96083333, 0.96208333,\n",
       "        0.96      , 0.96125   , 0.95916667, 0.96020833, 0.95833333,\n",
       "        0.95895833, 0.95770833, 0.958125  , 0.9575    , 0.95833333,\n",
       "        0.9575    , 0.958125  ]),\n",
       " 'split4_test_score': array([0.95583333, 0.855     , 0.95729167, 0.93479167, 0.96      ,\n",
       "        0.95291667, 0.96125   , 0.95791667, 0.960625  , 0.95979167,\n",
       "        0.95958333, 0.95979167, 0.95916667, 0.95958333, 0.95916667,\n",
       "        0.95916667, 0.959375  , 0.95895833, 0.959375  , 0.95916667,\n",
       "        0.959375  , 0.95916667]),\n",
       " 'mean_test_score': array([0.95570833, 0.85454167, 0.95820833, 0.93545833, 0.961125  ,\n",
       "        0.95145833, 0.96191667, 0.95729167, 0.960875  , 0.96095833,\n",
       "        0.96004167, 0.96104167, 0.95925   , 0.960125  , 0.95904167,\n",
       "        0.95916667, 0.95891667, 0.95883333, 0.95883333, 0.958875  ,\n",
       "        0.95883333, 0.95891667]),\n",
       " 'std_test_score': array([0.00206071, 0.00625056, 0.00109924, 0.00261672, 0.0011607 ,\n",
       "        0.00265165, 0.00073834, 0.00127748, 0.00054962, 0.00119751,\n",
       "        0.00042492, 0.00090331, 0.00053684, 0.00059803, 0.00069222,\n",
       "        0.00060381, 0.0007728 , 0.00065352, 0.00087003, 0.00059803,\n",
       "        0.00087003, 0.00060953]),\n",
       " 'rank_test_score': array([19, 22, 17, 21,  2, 20,  1, 18,  5,  4,  7,  3,  8,  6, 10,  9, 12,\n",
       "        14, 14, 13, 14, 11])}"
      ]
     },
     "execution_count": 5,
     "metadata": {},
     "output_type": "execute_result"
    }
   ],
   "source": [
    "# logistic\n",
    "logi = linear_model.LogisticRegression()\n",
    "log_p_Grid = { 'penalty':['l2','l1'], 'C': np.logspace(-3, 2, 11), 'solver':['liblinear'], 'max_iter':[200]}#tried 10 and 100,0.0001, 0.0005,  , 0.1, 1 [0.001, 0.005,0.01, 0.05, 0.1]\n",
    "logiGrid = GridSearchCV(logi, log_p_Grid)\n",
    "logiGrid.fit(x_train, y_train.values.reshape(-1))\n",
    "logiGrid.cv_results_"
   ]
  },
  {
   "cell_type": "code",
   "execution_count": 6,
   "id": "bd4d499d",
   "metadata": {},
   "outputs": [],
   "source": [
    "# logi = linear_model.LogisticRegression()\n",
    "# log_p_Grid = { 'penalty':['l2','none'], 'C': np.logspace(-3, -1, 7), 'solver':['lbfgs'], 'max_iter':[200]}#tried , 0.1, 1,10 and 100,[0.0001, 0.0005, 0.001, 0.005,0.01]\n",
    "# logiGrid = GridSearchCV(logi, log_p_Grid)\n",
    "# logiGrid.fit(x_train, y_train.values.reshape(-1))\n",
    "# logiGrid.cv_results_"
   ]
  }
 ],
 "metadata": {
  "kernelspec": {
   "display_name": "Python 3 (ipykernel)",
   "language": "python",
   "name": "python3"
  },
  "language_info": {
   "codemirror_mode": {
    "name": "ipython",
    "version": 3
   },
   "file_extension": ".py",
   "mimetype": "text/x-python",
   "name": "python",
   "nbconvert_exporter": "python",
   "pygments_lexer": "ipython3",
   "version": "3.8.11"
  },
  "varInspector": {
   "cols": {
    "lenName": 16,
    "lenType": 16,
    "lenVar": 40
   },
   "kernels_config": {
    "python": {
     "delete_cmd_postfix": "",
     "delete_cmd_prefix": "del ",
     "library": "var_list.py",
     "varRefreshCmd": "print(var_dic_list())"
    },
    "r": {
     "delete_cmd_postfix": ") ",
     "delete_cmd_prefix": "rm(",
     "library": "var_list.r",
     "varRefreshCmd": "cat(var_dic_list()) "
    }
   },
   "types_to_exclude": [
    "module",
    "function",
    "builtin_function_or_method",
    "instance",
    "_Feature"
   ],
   "window_display": false
  }
 },
 "nbformat": 4,
 "nbformat_minor": 5
}
